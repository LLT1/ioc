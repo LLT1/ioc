{
 "cells": [
  {
   "cell_type": "markdown",
   "metadata": {},
   "source": [
    "## Visualize Fourrooms Environment Configurations\n"
   ]
  },
  {
   "cell_type": "code",
   "execution_count": 1,
   "metadata": {},
   "outputs": [],
   "source": [
    "seed_startstate = 10\n",
    "import numpy as np\n",
    "import seaborn as sn\n",
    "import gym\n",
    "import os\n",
    "import pandas as pd\n",
    "import matplotlib.pyplot as plt\n",
    "from collections import defaultdict\n",
    "from fourrooms import Fourrooms\n",
    "from matplotlib import cm\n",
    "env = Fourrooms(seed_startstate)\n",
    "import pickle\n",
    "import matplotlib as mpl\n",
    "mpl.style.use('classic')\n",
    "from scipy.misc import logsumexp\n",
    "from scipy.special import expit"
   ]
  },
  {
   "cell_type": "code",
   "execution_count": 2,
   "metadata": {},
   "outputs": [
    {
     "data": {
      "text/plain": [
       "'0.9.0'"
      ]
     },
     "execution_count": 2,
     "metadata": {},
     "output_type": "execute_result"
    }
   ],
   "source": [
    "sn.__version__"
   ]
  },
  {
   "cell_type": "code",
   "execution_count": 3,
   "metadata": {},
   "outputs": [],
   "source": [
    "layout = \"\"\"\\\n",
    "wwwwwwwwwwwww\n",
    "w     w     w\n",
    "w     w     w\n",
    "w           w\n",
    "w     w     w\n",
    "w     w     w\n",
    "ww wwww     w\n",
    "w     www www\n",
    "w     w     w\n",
    "w     w     w\n",
    "w           w\n",
    "w     w     w\n",
    "wwwwwwwwwwwww\n",
    "\"\"\""
   ]
  },
  {
   "cell_type": "code",
   "execution_count": 4,
   "metadata": {},
   "outputs": [],
   "source": [
    "def getEnvLayout(layout,wall_value=20):\n",
    "    num_elem = 13\n",
    "    line_count = 0\n",
    "    mat_layout = -2*np.ones((num_elem, num_elem))\n",
    "    mapping_state_row_col = defaultdict(list)\n",
    "    ann_layout = np.zeros((num_elem, num_elem))\n",
    "        \n",
    "    state_count = 0\n",
    "    for line in layout.splitlines():\n",
    "        for i in range(num_elem):\n",
    "            if line[i]!=\"w\":\n",
    "                mapping_state_row_col[state_count].extend([line_count, i])\n",
    "                ann_layout[line_count, i] = state_count\n",
    "                state_count +=1            \n",
    "            else:\n",
    "                mat_layout[line_count, i] = wall_value\n",
    "        line_count +=1\n",
    "\n",
    "    return mat_layout, ann_layout, mapping_state_row_col"
   ]
  },
  {
   "cell_type": "code",
   "execution_count": 5,
   "metadata": {},
   "outputs": [],
   "source": [
    "possible_next_goals = [68, 69, 70, 71, 72, 78, 79, 80, 81, 82, 88, 89, 90, 91, 92, 93, 99, 100, 101, 102, 103]\n"
   ]
  },
  {
   "cell_type": "code",
   "execution_count": 6,
   "metadata": {},
   "outputs": [
    {
     "data": {
      "image/png": "[encoded data removed]",
      "text/plain": [
       "<Figure size 432x288 with 1 Axes>"
      ]
     },
     "metadata": {},
     "output_type": "display_data"
    }
   ],
   "source": [
    "path = os.getcwd()\n",
    "ann_action = np.chararray((13, 13))\n",
    "ann_action[:,:] = ''.encode(\"utf-8\")\n",
    "mat_layout, ann_layout, mapping_state_row_col = getEnvLayout(layout,wall_value=50)\n",
    "for curr_state in range(env.observation_space.n):\n",
    "        r, c = mapping_state_row_col[curr_state]\n",
    "        mat_layout[r,c] = 30\n",
    "        ann_action[r,c] = ''.encode(\"utf-8\")\n",
    "        if curr_state in possible_next_goals:\n",
    "            ann_layout[r,c] = 00\n",
    "            mat_layout[r,c] = 0\n",
    "        \n",
    "sn.set(font_scale=0.7)\n",
    "ax = sn.heatmap(mat_layout, annot = ann_action.decode(), fmt = '', cmap=\"viridis\", cbar = False, square=True)\n",
    "ax.get_xaxis().set_visible(False)\n",
    "ax.get_yaxis().set_visible(False)\n",
    "ax.grid()\n",
    "plt.savefig((os.path.join(path,\"TransferVisual\" +\".png\")), dpi=200, facecolor='w', edgecolor='w',\n",
    "                orientation='portrait', papertype=None, format=None,\n",
    "                transparent=False, bbox_inches='tight', pad_inches=0,\n",
    "                frameon=None, figsize=(5, 5))\n",
    "plt.show()\n",
    "plt.close()"
   ]
  },
  {
   "cell_type": "code",
   "execution_count": 7,
   "metadata": {},
   "outputs": [
    {
     "data": {
      "image/png": "[encoded data removed]",
      "text/plain": [
       "<Figure size 432x288 with 1 Axes>"
      ]
     },
     "metadata": {},
     "output_type": "display_data"
    }
   ],
   "source": [
    "path = os.getcwd()\n",
    "ann_action = np.chararray((13, 13))\n",
    "ann_action[:,:] = ''.encode(\"utf-8\")\n",
    "mat_layout, ann_layout, mapping_state_row_col = getEnvLayout(layout,wall_value=50)\n",
    "for curr_state in range(env.observation_space.n):\n",
    "        r, c = mapping_state_row_col[curr_state]\n",
    "        mat_layout[r,c] = 30\n",
    "        ann_action[r,c] = ''.encode(\"utf-8\")\n",
    "        if curr_state == 62:\n",
    "            ann_layout[r,c] = 00\n",
    "            mat_layout[r,c] = 0\n",
    "        \n",
    "sn.set(font_scale=0.7)\n",
    "ax = sn.heatmap(mat_layout, annot = ann_action.decode(), fmt = '', cmap=\"viridis\", cbar = False, square=True)\n",
    "ax.get_xaxis().set_visible(False)\n",
    "ax.get_yaxis().set_visible(False)\n",
    "ax.grid()\n",
    "plt.savefig((os.path.join(path,\"GoalG62\" +\".png\")), dpi=200, facecolor='w', edgecolor='w',\n",
    "                orientation='portrait', papertype=None, format=None,\n",
    "                transparent=False, bbox_inches='tight', pad_inches=0,\n",
    "                frameon=None, figsize=(5, 5))\n",
    "plt.show()\n",
    "plt.close()"
   ]
  }
 ],
 "metadata": {
  "kernelspec": {
   "display_name": "Python interest",
   "language": "python",
   "name": "interest"
  },
  "language_info": {
   "codemirror_mode": {
    "name": "ipython",
    "version": 3
   },
   "file_extension": ".py",
   "mimetype": "text/x-python",
   "name": "python",
   "nbconvert_exporter": "python",
   "pygments_lexer": "ipython3",
   "version": "3.6.7"
  }
 },
 "nbformat": 4,
 "nbformat_minor": 2
}
