{
 "cells": [
  {
   "cell_type": "markdown",
   "metadata": {},
   "source": [
    "# Interest Option Critic\n",
    "\n",
    "## Visualizations in Fourooms\n",
    "\n",
    "*   This notebook would provide you the tools to visualize the options learned. \n",
    "*   To generate the heatmaps corresponding to the tabular code provided, Step 1: please make sure you have run the tabular code and the results have been logged correctly. Step 2: search for outer_dir_list variable in this notebook, and set it to the name of the generated directory.  Step 3: to save the plots, enable the commented code for savefig. These visualizations are naturally for a specific run and episode which is set manually in this notebook as well. "
   ]
  },
  {
   "cell_type": "markdown",
   "metadata": {},
   "source": [
    "## Heatmaps to Visualize Interest Functions, Termination Conditions\n"
   ]
  },
  {
   "cell_type": "code",
   "execution_count": 28,
   "metadata": {},
   "outputs": [],
   "source": [
    "seed_startstate = 10\n",
    "import numpy as np\n",
    "import seaborn as sn\n",
    "import gym\n",
    "import os\n",
    "import pandas as pd\n",
    "import matplotlib.pyplot as plt\n",
    "from collections import defaultdict\n",
    "from fourrooms import Fourrooms\n",
    "from matplotlib import cm\n",
    "env = Fourrooms(seed_startstate)\n",
    "import pickle\n",
    "import matplotlib as mpl\n",
    "mpl.style.use('classic')\n",
    "from scipy.misc import logsumexp\n",
    "from scipy.special import expit\n",
    "import matplotlib as mpl"
   ]
  },
  {
   "cell_type": "code",
   "execution_count": 2,
   "metadata": {},
   "outputs": [
    {
     "data": {
      "text/plain": [
       "'0.9.0'"
      ]
     },
     "execution_count": 2,
     "metadata": {},
     "output_type": "execute_result"
    }
   ],
   "source": [
    "sn.__version__"
   ]
  },
  {
   "cell_type": "code",
   "execution_count": 3,
   "metadata": {},
   "outputs": [],
   "source": [
    "layout = \"\"\"\\\n",
    "wwwwwwwwwwwww\n",
    "w     w     w\n",
    "w     w     w\n",
    "w           w\n",
    "w     w     w\n",
    "w     w     w\n",
    "ww wwww     w\n",
    "w     www www\n",
    "w     w     w\n",
    "w     w     w\n",
    "w           w\n",
    "w     w     w\n",
    "wwwwwwwwwwwww\n",
    "\"\"\""
   ]
  },
  {
   "cell_type": "code",
   "execution_count": 4,
   "metadata": {},
   "outputs": [],
   "source": [
    "def getEnvLayout(layout,wall_value=20):\n",
    "    num_elem = 13\n",
    "    line_count = 0\n",
    "    mat_layout = -2*np.ones((num_elem, num_elem))\n",
    "    mapping_state_row_col = defaultdict(list)\n",
    "    ann_layout = np.zeros((num_elem, num_elem))\n",
    "        \n",
    "    state_count = 0\n",
    "    for line in layout.splitlines():\n",
    "        for i in range(num_elem):\n",
    "            if line[i]!=\"w\":\n",
    "                mapping_state_row_col[state_count].extend([line_count, i])\n",
    "                ann_layout[line_count, i] = state_count\n",
    "                state_count +=1            \n",
    "            else:\n",
    "                mat_layout[line_count, i] = wall_value\n",
    "        line_count +=1\n",
    "\n",
    "    return mat_layout, ann_layout, mapping_state_row_col"
   ]
  },
  {
   "cell_type": "code",
   "execution_count": 5,
   "metadata": {},
   "outputs": [
    {
     "data": {
      "text/plain": [
       "'/Users/khimyakhetarpal/Documents/Ph.D./codes/ioc/tabular/InterestOptionCritic/Runs10_Epsds500_Eps0.01_NOpt4_LRT0.25_LRI0.25_LRC0.5_temp0.01_IF0.15_LReg0.0_seed7200/'"
      ]
     },
     "execution_count": 5,
     "metadata": {},
     "output_type": "execute_result"
    }
   ],
   "source": [
    "root_path = os.getcwd()\n",
    "experiment_name = \"InterestOptionCritic\"\n",
    "outer_dir_list = \"Runs10_Epsds500_Eps0.01_NOpt4_LRT0.25_LRI0.25_LRC0.5_temp0.01_IF0.15_LReg0.0_seed7200/\"\n",
    "path = os.path.join(root_path, experiment_name, outer_dir_list)\n",
    "dirs = os.listdir(path)\n",
    "dirs\n",
    "path"
   ]
  },
  {
   "cell_type": "code",
   "execution_count": 6,
   "metadata": {},
   "outputs": [
    {
     "name": "stdout",
     "output_type": "stream",
     "text": [
      "(10, 500, 104, 4)\n"
     ]
    }
   ],
   "source": [
    "num_process = 1  \n",
    "Iweights_per_param = []\n",
    "for i in range(num_process):\n",
    "    curr_path = path\n",
    "    filename = os.path.join(curr_path, \"Weights_InterestFunction.npy\")\n",
    "    Iweights = np.load(filename)[:,:,:]\n",
    "    Iweights_per_param.append(Iweights)\n",
    "    \n",
    "Iweights = np.concatenate(Iweights_per_param, axis=0)\n",
    "print(Iweights.shape)  ## Parameterized interest functions I(s) must match this dim = nruns*nepisodes*num_states*noptions\n",
    "InterestFunctionsWeights = Iweights"
   ]
  },
  {
   "cell_type": "code",
   "execution_count": 7,
   "metadata": {},
   "outputs": [],
   "source": [
    "def sigmoid(x, derivative=False):\n",
    "    return x*(1-x) if derivative else 1/(1+np.exp(-x))"
   ]
  },
  {
   "cell_type": "markdown",
   "metadata": {},
   "source": [
    "## Visualization of Interest Functions\n",
    "### Initial I for each option"
   ]
  },
  {
   "cell_type": "code",
   "execution_count": 9,
   "metadata": {},
   "outputs": [
    {
     "name": "stdout",
     "output_type": "stream",
     "text": [
      "Initial Interest Function Values For \n",
      "Option  0\n",
      "[0.9933072  0.9933072  0.9933072  0.9933072  0.9933072  0.98201376\n",
      " 0.98201376 0.98201376 0.98201376 0.98201376 0.9933072  0.9933072\n",
      " 0.9933072  0.9933072  0.9933072  0.98201376 0.98201376 0.98201376\n",
      " 0.98201376 0.98201376 0.9933072  0.9933072  0.9933072  0.9933072\n",
      " 0.9933072  0.9933072  0.98201376 0.98201376 0.98201376 0.98201376\n",
      " 0.98201376 0.9933072  0.9933072  0.9933072  0.9933072  0.9933072\n",
      " 0.98201376 0.98201376 0.98201376 0.98201376 0.98201376 0.9933072\n",
      " 0.9933072  0.9933072  0.9933072  0.9933072  0.98201376 0.98201376\n",
      " 0.98201376 0.98201376 0.98201376 0.9933072  0.98201376 0.98201376\n",
      " 0.98201376 0.98201376 0.98201376 0.5        0.5        0.5\n",
      " 0.5        0.5        0.5        0.5        0.5        0.5\n",
      " 0.5        0.5        0.5        0.5        0.5        0.5\n",
      " 0.5        0.5        0.5        0.5        0.5        0.5\n",
      " 0.5        0.5        0.5        0.5        0.5        0.5\n",
      " 0.5        0.5        0.5        0.5        0.5        0.5\n",
      " 0.5        0.5        0.5        0.5        0.5        0.5\n",
      " 0.5        0.5        0.5        0.5        0.5        0.5\n",
      " 0.5        0.5       ]\n",
      "Option  1\n",
      "[0.5        0.5        0.5        0.5        0.5        0.9933072\n",
      " 0.9933072  0.9933072  0.9933072  0.9933072  0.5        0.5\n",
      " 0.5        0.5        0.5        0.9933072  0.9933072  0.9933072\n",
      " 0.9933072  0.9933072  0.5        0.5        0.5        0.5\n",
      " 0.5        0.5        0.9933072  0.9933072  0.9933072  0.9933072\n",
      " 0.9933072  0.5        0.5        0.5        0.5        0.5\n",
      " 0.9933072  0.9933072  0.9933072  0.9933072  0.9933072  0.5\n",
      " 0.5        0.5        0.5        0.5        0.9933072  0.9933072\n",
      " 0.9933072  0.9933072  0.9933072  0.5        0.9933072  0.9933072\n",
      " 0.9933072  0.9933072  0.9933072  0.5        0.5        0.5\n",
      " 0.5        0.5        0.98201376 0.5        0.5        0.5\n",
      " 0.5        0.5        0.98201376 0.98201376 0.98201376 0.98201376\n",
      " 0.98201376 0.5        0.5        0.5        0.5        0.5\n",
      " 0.98201376 0.98201376 0.98201376 0.98201376 0.98201376 0.5\n",
      " 0.5        0.5        0.5        0.5        0.5        0.98201376\n",
      " 0.98201376 0.98201376 0.98201376 0.98201376 0.5        0.5\n",
      " 0.5        0.5        0.5        0.98201376 0.98201376 0.98201376\n",
      " 0.98201376 0.98201376]\n",
      "Option  2\n",
      "[0.5        0.5        0.5        0.5        0.5        0.5\n",
      " 0.5        0.5        0.5        0.5        0.5        0.5\n",
      " 0.5        0.5        0.5        0.5        0.5        0.5\n",
      " 0.5        0.5        0.5        0.5        0.5        0.5\n",
      " 0.5        0.5        0.5        0.5        0.5        0.5\n",
      " 0.5        0.5        0.5        0.5        0.5        0.5\n",
      " 0.5        0.5        0.5        0.5        0.5        0.5\n",
      " 0.5        0.5        0.5        0.5        0.5        0.5\n",
      " 0.5        0.5        0.5        0.5        0.5        0.5\n",
      " 0.5        0.5        0.5        0.98201376 0.98201376 0.98201376\n",
      " 0.98201376 0.98201376 0.9933072  0.98201376 0.98201376 0.98201376\n",
      " 0.98201376 0.98201376 0.9933072  0.9933072  0.9933072  0.9933072\n",
      " 0.9933072  0.98201376 0.98201376 0.98201376 0.98201376 0.98201376\n",
      " 0.9933072  0.9933072  0.9933072  0.9933072  0.9933072  0.98201376\n",
      " 0.98201376 0.98201376 0.98201376 0.98201376 0.98201376 0.9933072\n",
      " 0.9933072  0.9933072  0.9933072  0.9933072  0.98201376 0.98201376\n",
      " 0.98201376 0.98201376 0.98201376 0.9933072  0.9933072  0.9933072\n",
      " 0.9933072  0.9933072 ]\n",
      "Option  3\n",
      "[0.98201376 0.98201376 0.98201376 0.98201376 0.98201376 0.5\n",
      " 0.5        0.5        0.5        0.5        0.98201376 0.98201376\n",
      " 0.98201376 0.98201376 0.98201376 0.5        0.5        0.5\n",
      " 0.5        0.5        0.98201376 0.98201376 0.98201376 0.98201376\n",
      " 0.98201376 0.98201376 0.5        0.5        0.5        0.5\n",
      " 0.5        0.98201376 0.98201376 0.98201376 0.98201376 0.98201376\n",
      " 0.5        0.5        0.5        0.5        0.5        0.98201376\n",
      " 0.98201376 0.98201376 0.98201376 0.98201376 0.5        0.5\n",
      " 0.5        0.5        0.5        0.98201376 0.5        0.5\n",
      " 0.5        0.5        0.5        0.9933072  0.9933072  0.9933072\n",
      " 0.9933072  0.9933072  0.5        0.9933072  0.9933072  0.9933072\n",
      " 0.9933072  0.9933072  0.5        0.5        0.5        0.5\n",
      " 0.5        0.9933072  0.9933072  0.9933072  0.9933072  0.9933072\n",
      " 0.5        0.5        0.5        0.5        0.5        0.9933072\n",
      " 0.9933072  0.9933072  0.9933072  0.9933072  0.9933072  0.5\n",
      " 0.5        0.5        0.5        0.5        0.9933072  0.9933072\n",
      " 0.9933072  0.9933072  0.9933072  0.5        0.5        0.5\n",
      " 0.5        0.5       ]\n"
     ]
    }
   ],
   "source": [
    "\"\"\"\n",
    "Interest Functions over time\n",
    "\"\"\"\n",
    "noptions = 4\n",
    "episode = 0\n",
    "run_to_analyze = 8\n",
    "\n",
    "print (\"Initial Interest Function Values For \")\n",
    "for option in range(noptions):\n",
    "    Iweights_option = InterestFunctionsWeights[run_to_analyze,episode,:,option]\n",
    "    Iw_values = sigmoid(Iweights_option)\n",
    "    print (\"Option \",option)\n",
    "    print(Iw_values)"
   ]
  },
  {
   "cell_type": "code",
   "execution_count": 10,
   "metadata": {},
   "outputs": [
    {
     "name": "stdout",
     "output_type": "stream",
     "text": [
      "Initial Interest Function Values For \n",
      "Option  0\n"
     ]
    },
    {
     "data": {
      "image/png": "[encoded data removed]",
      "text/plain": [
       "<Figure size 432x360 with 2 Axes>"
      ]
     },
     "metadata": {
      "needs_background": "light"
     },
     "output_type": "display_data"
    },
    {
     "name": "stdout",
     "output_type": "stream",
     "text": [
      "Option  1\n"
     ]
    },
    {
     "data": {
      "image/png": "[encoded data removed]",
      "text/plain": [
       "<Figure size 432x360 with 2 Axes>"
      ]
     },
     "metadata": {},
     "output_type": "display_data"
    },
    {
     "name": "stdout",
     "output_type": "stream",
     "text": [
      "Option  2\n"
     ]
    },
    {
     "data": {
      "image/png": "[encoded data removed]",
      "text/plain": [
       "<Figure size 432x360 with 2 Axes>"
      ]
     },
     "metadata": {},
     "output_type": "display_data"
    },
    {
     "name": "stdout",
     "output_type": "stream",
     "text": [
      "Option  3\n"
     ]
    },
    {
     "data": {
      "image/png": "[encoded data removed]",
      "text/plain": [
       "<Figure size 432x360 with 2 Axes>"
      ]
     },
     "metadata": {},
     "output_type": "display_data"
    }
   ],
   "source": [
    "\"\"\"\n",
    "Interest Functions over time\n",
    "\"\"\"\n",
    "noptions = 4\n",
    "episode = 0\n",
    "run_to_analyze = 8\n",
    "\n",
    "print (\"Initial Interest Function Values For \")\n",
    "for option in range(noptions):\n",
    "    Iweights_option = sigmoid(InterestFunctionsWeights[run_to_analyze,episode,:,option])\n",
    "    mat_layout, ann_layout, mapping_state_row_col = getEnvLayout(layout,wall_value=0.60)\n",
    "    print (\"Option \",option)\n",
    "    fig, ax = plt.subplots(figsize=(6, 5))\n",
    "    for curr_state in range(env.observation_space.n):\n",
    "        r, c = mapping_state_row_col[curr_state]\n",
    "        mat_layout[r,c] = Iweights_option[curr_state]\n",
    "        ann_layout[r,c] = round(Iweights_option[curr_state],2)\n",
    "        \n",
    "    sn.set(font_scale=0.7)\n",
    "    ax = sn.heatmap(mat_layout, cmap=\"viridis\", cbar = True, square=True)\n",
    "    ax.get_xaxis().set_visible(False)\n",
    "    ax.get_yaxis().set_visible(False)\n",
    "    ax.grid()\n",
    "#     plt.savefig((os.path.join(path,\"IOC_InitialIntFn_Nobar_\"+ str(option) +\".png\")), dpi=200, facecolor='w', edgecolor='w',\n",
    "#                 orientation='portrait', papertype=None, format=None,\n",
    "#                 transparent=False, bbox_inches='tight', pad_inches=0,\n",
    "#                 frameon=None, figsize=(5, 5))\n",
    "    plt.show()\n",
    "    plt.close()"
   ]
  },
  {
   "cell_type": "markdown",
   "metadata": {},
   "source": [
    "### Final I for each option"
   ]
  },
  {
   "cell_type": "code",
   "execution_count": 12,
   "metadata": {},
   "outputs": [
    {
     "name": "stdout",
     "output_type": "stream",
     "text": [
      "Final Interest Function Values For \n",
      "Option  0\n"
     ]
    },
    {
     "data": {
      "image/png": "[encoded data removed]",
      "text/plain": [
       "<Figure size 432x360 with 2 Axes>"
      ]
     },
     "metadata": {},
     "output_type": "display_data"
    },
    {
     "name": "stdout",
     "output_type": "stream",
     "text": [
      "Option  1\n"
     ]
    },
    {
     "data": {
      "image/png": "[encoded data removed]",
      "text/plain": [
       "<Figure size 432x360 with 2 Axes>"
      ]
     },
     "metadata": {},
     "output_type": "display_data"
    },
    {
     "name": "stdout",
     "output_type": "stream",
     "text": [
      "Option  2\n"
     ]
    },
    {
     "data": {
      "image/png": "[encoded data removed]",
      "text/plain": [
       "<Figure size 432x360 with 2 Axes>"
      ]
     },
     "metadata": {},
     "output_type": "display_data"
    },
    {
     "name": "stdout",
     "output_type": "stream",
     "text": [
      "Option  3\n"
     ]
    },
    {
     "data": {
      "image/png": "[encoded data removed]",
      "text/plain": [
       "<Figure size 432x360 with 2 Axes>"
      ]
     },
     "metadata": {},
     "output_type": "display_data"
    }
   ],
   "source": [
    "\"\"\"\n",
    "Interest Functions over time\n",
    "\"\"\"\n",
    "noptions = 4\n",
    "episode = 400\n",
    "run_to_analyze = 8\n",
    "# normalizer = sigmoid(Iweights[run_to_analyze,episode,:,0])  + sigmoid(Iweights[run_to_analyze,episode,:,1]) + sigmoid(Iweights[run_to_analyze,episode,:,2]) + sigmoid(Iweights[run_to_analyze,episode,:,3])\n",
    "# normalizer = normalizer/4\n",
    "cmap_light = sn.light_palette((210, 90, 60), input=\"husl\")\n",
    "cmap_pink = sn.cubehelix_palette(8)\n",
    "print (\"Final Interest Function Values For \")\n",
    "for option in range(noptions):\n",
    "    Ivalues_option = sigmoid(InterestFunctionsWeights[run_to_analyze,episode,:,option])\n",
    "    mat_layout, ann_layout, mapping_state_row_col = getEnvLayout(layout,wall_value=0.60)\n",
    "    print (\"Option \",option)\n",
    "    fig, ax = plt.subplots(figsize=(6, 5))\n",
    "    for curr_state in range(env.observation_space.n):\n",
    "        r, c = mapping_state_row_col[curr_state]\n",
    "        mat_layout[r,c] = Ivalues_option[curr_state]\n",
    "        ann_layout[r,c] = np.round(Ivalues_option[curr_state],2)    \n",
    "    \n",
    "    \n",
    "    sn.set(font_scale=0.7)\n",
    "    ax = sn.heatmap(mat_layout, cmap=\"viridis\", cbar = True, square=True)\n",
    "    #ax = sn.heatmap(mat_layout, annot = np.round(ann_layout,2), fmt = '', cmap=\"YlGnBu\", cbar = True, square=True)\n",
    "    ax.get_xaxis().set_visible(False)\n",
    "    ax.get_yaxis().set_visible(False)\n",
    "    ax.grid()\n",
    "#     plt.savefig((os.path.join(path,\"IOC_FinalIntFn_O\"+ str(option) +\".png\")), dpi=200, facecolor='w', edgecolor='w',\n",
    "#                 orientation='portrait', papertype=None, format=None,\n",
    "#                 transparent=False, bbox_inches='tight', pad_inches=0,\n",
    "#                 frameon=None, figsize=(5, 5))\n",
    "    plt.show()\n",
    "    plt.close()"
   ]
  },
  {
   "cell_type": "markdown",
   "metadata": {},
   "source": [
    "### Visualization of Termination Functions"
   ]
  },
  {
   "cell_type": "code",
   "execution_count": 13,
   "metadata": {},
   "outputs": [
    {
     "name": "stdout",
     "output_type": "stream",
     "text": [
      "(10, 500, 104, 4)\n"
     ]
    },
    {
     "data": {
      "text/plain": [
       "'/Users/khimyakhetarpal/Documents/Ph.D./codes/ioc/tabular/InterestOptionCritic/Runs10_Epsds500_Eps0.01_NOpt4_LRT0.25_LRI0.25_LRC0.5_temp0.01_IF0.15_LReg0.0_seed7200/'"
      ]
     },
     "execution_count": 13,
     "metadata": {},
     "output_type": "execute_result"
    }
   ],
   "source": [
    "num_process = 1\n",
    "Betaweights_per_param = []\n",
    "for i in range(num_process):\n",
    "    curr_path = path\n",
    "    filename = os.path.join(curr_path, \"Weights_Termination.npy\")\n",
    "    Betaweights = np.load(filename)[:,:,:]\n",
    "    Betaweights_per_param.append(Betaweights)\n",
    "    \n",
    "Betaweights = np.concatenate(Betaweights_per_param, axis=0)\n",
    "print(Betaweights.shape)  ## Parameterized interest functions I(s) must match this dim = nruns*nepisodes*num_states*noptions\n",
    "\n",
    "path"
   ]
  },
  {
   "cell_type": "markdown",
   "metadata": {},
   "source": [
    "### Initial and Final Termination Conditions Weights"
   ]
  },
  {
   "cell_type": "code",
   "execution_count": 14,
   "metadata": {},
   "outputs": [
    {
     "name": "stdout",
     "output_type": "stream",
     "text": [
      "Initial Termination Function Values For \n",
      "Option  0\n"
     ]
    },
    {
     "data": {
      "image/png": "[encoded data removed]",
      "text/plain": [
       "<Figure size 432x360 with 2 Axes>"
      ]
     },
     "metadata": {},
     "output_type": "display_data"
    },
    {
     "name": "stdout",
     "output_type": "stream",
     "text": [
      "Option  1\n"
     ]
    },
    {
     "data": {
      "image/png": "[encoded data removed]",
      "text/plain": [
       "<Figure size 432x360 with 2 Axes>"
      ]
     },
     "metadata": {},
     "output_type": "display_data"
    },
    {
     "name": "stdout",
     "output_type": "stream",
     "text": [
      "Option  2\n"
     ]
    },
    {
     "data": {
      "image/png": "[encoded data removed]",
      "text/plain": [
       "<Figure size 432x360 with 2 Axes>"
      ]
     },
     "metadata": {},
     "output_type": "display_data"
    },
    {
     "name": "stdout",
     "output_type": "stream",
     "text": [
      "Option  3\n"
     ]
    },
    {
     "data": {
      "image/png": "[encoded data removed]",
      "text/plain": [
       "<Figure size 432x360 with 2 Axes>"
      ]
     },
     "metadata": {},
     "output_type": "display_data"
    }
   ],
   "source": [
    "\"\"\"\n",
    "Termination Functions over time\n",
    "\"\"\"\n",
    "noptions = 4\n",
    "episode = 0\n",
    "run_to_analyze = 8\n",
    "\n",
    "print (\"Initial Termination Function Values For \")\n",
    "for option in range(noptions):\n",
    "    Betaweights_option = sigmoid(Betaweights[run_to_analyze,episode, :, option])\n",
    "    mat_layout, ann_layout, mapping_state_row_col = getEnvLayout(layout,wall_value=0.60)\n",
    "    print (\"Option \",option)    \n",
    "    fig, ax = plt.subplots(figsize=(6, 5))\n",
    "    for curr_state in range(env.observation_space.n):\n",
    "        r, c = mapping_state_row_col[curr_state]\n",
    "        mat_layout[r,c] = Betaweights_option[curr_state]\n",
    "        ann_layout[r,c] = round(Betaweights_option[curr_state],2)\n",
    "        \n",
    "    sn.set(font_scale=0.7)\n",
    "    #ax = sn.heatmap(mat_layout, annot = np.round(ann_layout,2), fmt = '', cmap=\"viridis\", cbar = True, square=True)\n",
    "    ax = sn.heatmap(mat_layout, fmt = '', cmap=\"viridis\", cbar = True, square=True)\n",
    "    ax.get_xaxis().set_visible(False)\n",
    "    ax.get_yaxis().set_visible(False)\n",
    "#     plt.savefig((os.path.join(path,\"IOC_InitialBeta_O\"+ str(option) +\".png\")), dpi=200, facecolor='w', edgecolor='w',\n",
    "#                 orientation='portrait', papertype=None, format=None,\n",
    "#                 transparent=False, bbox_inches='tight', pad_inches=0,\n",
    "#                 frameon=None, figsize=(5, 5))\n",
    "    plt.show()\n",
    "    plt.close()"
   ]
  },
  {
   "cell_type": "code",
   "execution_count": 16,
   "metadata": {},
   "outputs": [
    {
     "name": "stdout",
     "output_type": "stream",
     "text": [
      "Final Termination Function Values For \n",
      "Option  0\n"
     ]
    },
    {
     "data": {
      "image/png": "[encoded data removed]",
      "text/plain": [
       "<Figure size 432x360 with 2 Axes>"
      ]
     },
     "metadata": {},
     "output_type": "display_data"
    },
    {
     "name": "stdout",
     "output_type": "stream",
     "text": [
      "Option  1\n"
     ]
    },
    {
     "data": {
      "image/png": "[encoded data removed]",
      "text/plain": [
       "<Figure size 432x360 with 2 Axes>"
      ]
     },
     "metadata": {},
     "output_type": "display_data"
    },
    {
     "name": "stdout",
     "output_type": "stream",
     "text": [
      "Option  2\n"
     ]
    },
    {
     "data": {
      "image/png": "[encoded data removed]",
      "text/plain": [
       "<Figure size 432x360 with 2 Axes>"
      ]
     },
     "metadata": {},
     "output_type": "display_data"
    },
    {
     "name": "stdout",
     "output_type": "stream",
     "text": [
      "Option  3\n"
     ]
    },
    {
     "data": {
      "image/png": "[encoded data removed]",
      "text/plain": [
       "<Figure size 432x360 with 2 Axes>"
      ]
     },
     "metadata": {},
     "output_type": "display_data"
    }
   ],
   "source": [
    "\"\"\"\n",
    "Termination Functions over time\n",
    "\"\"\"\n",
    "noptions = 4\n",
    "episode = 499\n",
    "run_to_analyze = 8\n",
    "\n",
    "print (\"Final Termination Function Values For \")\n",
    "for option in range(noptions):\n",
    "    Betaweights_option = sigmoid(Betaweights[run_to_analyze,episode, :, option])\n",
    "    #Betaweights_option = Betaweights[run_to_analyze,episode, :, option]\n",
    "    mat_layout, ann_layout, mapping_state_row_col = getEnvLayout(layout,wall_value=0.60)\n",
    "    print (\"Option \",option)    \n",
    "    fig, ax = plt.subplots(figsize=(6, 5))\n",
    "    for curr_state in range(env.observation_space.n):\n",
    "        r, c = mapping_state_row_col[curr_state]\n",
    "        mat_layout[r,c] = Betaweights_option[curr_state]\n",
    "        ann_layout[r,c] = round(Betaweights_option[curr_state],2)\n",
    "        \n",
    "    sn.set(font_scale=0.7)\n",
    "    #ax = sn.heatmap(mat_layout, annot = np.round(ann_layout,2), fmt = '', cmap=\"YlGnBu\", cbar = True, square=True)\n",
    "    ax = sn.heatmap(mat_layout, fmt = '', cmap=\"viridis\", cbar = True, square=True)\n",
    "    ax.get_xaxis().set_visible(False)\n",
    "    ax.get_yaxis().set_visible(False)\n",
    "#     plt.savefig((os.path.join(path,\"IOC_FinalBeta_O\"+ str(option) +\".png\")), dpi=200, facecolor='w', edgecolor='w',\n",
    "#                 orientation='portrait', papertype=None, format=None,\n",
    "#                 transparent=False, bbox_inches='tight', pad_inches=0,\n",
    "#                 frameon=None, figsize=(5, 5))\n",
    "    plt.show()\n",
    "    plt.close()"
   ]
  }
 ],
 "metadata": {
  "kernelspec": {
   "display_name": "Python interest",
   "language": "python",
   "name": "interest"
  },
  "language_info": {
   "codemirror_mode": {
    "name": "ipython",
    "version": 3
   },
   "file_extension": ".py",
   "mimetype": "text/x-python",
   "name": "python",
   "nbconvert_exporter": "python",
   "pygments_lexer": "ipython3",
   "version": "3.6.7"
  }
 },
 "nbformat": 4,
 "nbformat_minor": 2
}
