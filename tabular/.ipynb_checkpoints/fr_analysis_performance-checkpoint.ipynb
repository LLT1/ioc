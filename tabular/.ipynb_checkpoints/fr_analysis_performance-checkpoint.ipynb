{
 "cells": [
  {
   "cell_type": "markdown",
   "metadata": {},
   "source": [
    "# Performance Analysis\n",
    "\n",
    "## Average Return and Steps"
   ]
  },
  {
   "cell_type": "code",
   "execution_count": null,
   "metadata": {},
   "outputs": [],
   "source": [
    "import numpy as np\n",
    "import matplotlib\n",
    "matplotlib.use('TkAgg')\n",
    "import gym\n",
    "import os\n",
    "import glob\n",
    "import seaborn as sn\n",
    "sn.set(color_codes=True)\n",
    "sn.set(style='ticks')\n",
    "import pandas as pd\n",
    "import matplotlib.pyplot as plt\n",
    "from collections import defaultdict\n",
    "from fourrooms import Fourrooms\n",
    "from matplotlib import cm\n",
    "env = Fourrooms(10)\n",
    "import pickle\n",
    "import matplotlib as mpl\n",
    "plt.style.use('classic')\n",
    "from scipy.ndimage.filters import gaussian_filter1d"
   ]
  },
  {
   "cell_type": "code",
   "execution_count": null,
   "metadata": {},
   "outputs": [],
   "source": [
    "friendly_colors = ['#377eb8', '#f781bf', '#4daf4a', '#a65628', '#984ea3',\n",
    "                  '#ff7f00', '#999999', '#e41a1c', '#dede00']"
   ]
  },
  {
   "cell_type": "markdown",
   "metadata": {},
   "source": [
    "## Interest Option Critic"
   ]
  },
  {
   "cell_type": "code",
   "execution_count": null,
   "metadata": {},
   "outputs": [],
   "source": [
    "root_dir = os.getcwd()\n",
    "experiment_name = \"InterestOptionCritic/\"\n",
    "relative_dir = os.path.join(root_dir, experiment_name)\n",
    "relative_dir\n",
    "for filename in glob.iglob(relative_dir + '*/History.npy', recursive=True):\n",
    "     print(filename)\n",
    "     data_IOC = np.load(filename)[:,:,:]"
   ]
  },
  {
   "cell_type": "code",
   "execution_count": null,
   "metadata": {},
   "outputs": [],
   "source": [
    "data_IOC\n",
    "print(data_IOC.shape)"
   ]
  },
  {
   "cell_type": "code",
   "execution_count": null,
   "metadata": {},
   "outputs": [],
   "source": [
    "#Accumulating return per episode for each run in this script\n",
    "#Currently consider only one file is being read as input \n",
    "#This contains multiple runs for instance here 10 runs.\n",
    "\n",
    "#Aim: Average return and steps for n runs and plot averaged returns and steps across n runs\n",
    "\n",
    "final_returns_IOC =[]\n",
    "final_steps_IOC = []\n",
    "return_per_episode_IOC = []\n",
    "steps_per_episode_IOC = []\n",
    "\n",
    "#For a Particular Experiment, Accumulate return + steps for all [runs, episodes, i]\n",
    "steps_per_episode_IOC.extend(data_IOC[:,:,0])\n",
    "return_per_episode_IOC.extend(data_IOC[:,:,1])\n",
    "\n",
    "#Average return from multiple runs \n",
    "returns_IOC = np.array(return_per_episode_IOC)    #Size runs * episodes\n",
    "steps_IOC = np.array(steps_per_episode_IOC)\n",
    "\n",
    "averaged_returns_IOC = np.mean(returns_IOC, axis = 0)\n",
    "variance_returns_IOC = np.std(returns_IOC, axis = 0)\n",
    "\n",
    "averaged_steps_IOC = np.mean(steps_IOC, axis = 0)\n",
    "variance_steps_IOC = np.std(steps_IOC, axis = 0)\n",
    "\n",
    "data_returns_IOC = np.vstack((averaged_returns_IOC, variance_returns_IOC))\n",
    "data_steps_IOC = np.vstack((averaged_steps_IOC, variance_steps_IOC))\n",
    "\n",
    "final_returns_IOC.append(data_returns_IOC)\n",
    "final_steps_IOC.append(data_steps_IOC)\n",
    "\n",
    "\n",
    "avg_returns_vs_episodes_IOC = data_returns_IOC[0,:]\n",
    "error_returns_IOC = data_returns_IOC[1,:]\n",
    "IOC_avg_returns_vs_episodes = avg_returns_vs_episodes_IOC\n",
    "\n",
    "\n",
    "avg_steps_vs_episodes_IOC = data_steps_IOC[0,:]\n",
    "error_steps_IOC = data_steps_IOC[1,:]\n",
    "IOC_avg_steps_vs_episodes = avg_steps_vs_episodes_IOC\n"
   ]
  },
  {
   "cell_type": "markdown",
   "metadata": {},
   "source": [
    "## Option Critic"
   ]
  },
  {
   "cell_type": "code",
   "execution_count": null,
   "metadata": {},
   "outputs": [],
   "source": [
    "root_dir = os.getcwd()\n",
    "experiment_name = \"OptionCritic/\"\n",
    "relative_dir = os.path.join(root_dir, experiment_name)\n",
    "relative_dir\n",
    "for filename_oc in glob.iglob(relative_dir + '*/History.npy', recursive=True):\n",
    "     print(filename_oc)\n",
    "     data_OC = np.load(filename_oc)[:,:,:]\n",
    "\n",
    "print(data_OC.shape)"
   ]
  },
  {
   "cell_type": "code",
   "execution_count": null,
   "metadata": {},
   "outputs": [],
   "source": [
    "final_returns_OC =[]\n",
    "final_steps_OC = []\n",
    "return_per_episode_OC = []\n",
    "steps_per_episode_OC = []\n",
    "x_axis = np.linspace(0, 500, 500)\n",
    "sn.set()\n",
    "#For a Particular Experiment, Accumulate return + steps for all [runs, episodes, i]\n",
    "steps_per_episode_OC.extend(data_OC[:,:,0])\n",
    "return_per_episode_OC.extend(data_OC[:,:,1])\n",
    "\n",
    "#Average return from multiple runs \n",
    "returns_OC = np.array(return_per_episode_OC)    #Size runs * episodes\n",
    "steps_OC = np.array(steps_per_episode_OC)\n",
    "\n",
    "averaged_returns_OC = np.mean(returns_OC, axis = 0)\n",
    "variance_returns_OC = np.std(returns_OC, axis = 0)\n",
    "averaged_steps_OC = np.mean(steps_OC, axis = 0)\n",
    "variance_steps_OC = np.std(steps_OC, axis = 0)\n",
    "data_returns_OC = np.vstack((averaged_returns_OC, variance_returns_OC))\n",
    "data_steps_OC = np.vstack((averaged_steps_OC, variance_steps_OC))\n",
    "\n",
    "final_returns_OC.append(data_returns_OC)\n",
    "final_steps_OC.append(data_steps_OC)\n",
    "    \n",
    "OC_avg_returns_vs_episodes = data_returns_OC[0,:]\n",
    "OC_avg_steps_vs_episodes = data_steps_OC[0,:]\n",
    "\n",
    "error_returns_OC = data_returns_OC[1,:]\n",
    "error_steps_OC = data_steps_OC[1,:]"
   ]
  },
  {
   "cell_type": "code",
   "execution_count": null,
   "metadata": {},
   "outputs": [],
   "source": [
    "#smoothened\n",
    "OC_avg_returns_vs_episodes_smoothed = gaussian_filter1d(OC_avg_returns_vs_episodes, sigma=2)\n",
    "error_returns_OC_smoothed = gaussian_filter1d(error_returns_OC, sigma=2)\n",
    "IOC_avg_returns_vs_episodes_smoothed = gaussian_filter1d(IOC_avg_returns_vs_episodes, sigma=2)\n",
    "error_returns_IOC_smoothed = gaussian_filter1d(error_returns_IOC, sigma=2)"
   ]
  },
  {
   "cell_type": "markdown",
   "metadata": {},
   "source": [
    "## Comparative analysis"
   ]
  },
  {
   "cell_type": "markdown",
   "metadata": {},
   "source": [
    "#### Plotting mean return averaged across n runs."
   ]
  },
  {
   "cell_type": "code",
   "execution_count": null,
   "metadata": {},
   "outputs": [],
   "source": [
    "sn.set_context(\"paper\")\n",
    "sn.set_context(\"paper\", font_scale=1.85)\n",
    "plt.rcParams['savefig.facecolor'] = \"0.8\"\n",
    "plt.rcParams['savefig.edgecolor'] = \"black\"\n",
    "plt.grid(True)\n",
    "x_axis = np.linspace(0, 500, 500)\n",
    "plt.plot(x_axis, IOC_avg_returns_vs_episodes_smoothed[:500], color = 'red', label ='IOC with misspecified $\\pi_{\\Omega}$', linewidth = 2.00)\n",
    "plt.fill_between(x_axis, IOC_avg_returns_vs_episodes_smoothed[:500]-error_returns_IOC_smoothed[:500], IOC_avg_returns_vs_episodes_smoothed[:500]+error_returns_IOC_smoothed[:500], facecolor='red', edgecolor='red', alpha=0.15)\n",
    "\n",
    "plt.plot(x_axis, OC_avg_returns_vs_episodes_smoothed[:500], color = 'blue', label ='OC with misspecified $\\pi_{\\Omega}$', linewidth = 2.00)\n",
    "plt.fill_between(x_axis, OC_avg_returns_vs_episodes_smoothed[:500]-error_returns_OC_smoothed[:500], OC_avg_returns_vs_episodes_smoothed[:500]+error_returns_OC_smoothed[:500], facecolor='blue', edgecolor='blue', alpha=0.15)\n",
    "\n",
    "\n",
    "plt.legend(loc='best', facecolor='w')\n",
    "plt.xlabel(\"Episodes\", fontsize=16)\n",
    "plt.ylabel(\"Return\",fontsize=16) \n",
    "plt.title(\"Four Rooms\")\n",
    "matplotlib.rc('axes',edgecolor='black')\n",
    "plt.savefig((os.path.join(root_dir,\"FR_Return_10Runs_Smooth_MisspecifiedPiO\"+ \".pdf\")), dpi=200, orientation='portrait', papertype=None, format=None,\n",
    "            transparent=True, bbox_inches='tight', pad_inches=0,\n",
    "            frameon=None, figsize=(4, 4))\n",
    "\n",
    "plt.show()"
   ]
  },
  {
   "cell_type": "markdown",
   "metadata": {},
   "source": [
    "#### Plotting mean steps averaged across n runs."
   ]
  },
  {
   "cell_type": "code",
   "execution_count": null,
   "metadata": {},
   "outputs": [],
   "source": [
    "sn.set_context(\"paper\")\n",
    "sn.set_context(\"paper\", font_scale=1.85)\n",
    "plt.rcParams['savefig.facecolor'] = \"0.8\"\n",
    "plt.rcParams['savefig.edgecolor'] = \"black\"\n",
    "\n",
    "plt.ylim((0, 700))   # set the ylim to bottom, top\n",
    "plt.yticks(np.arange(0, 700, step=100))\n",
    "x_axis = np.linspace(0, 500, 500)\n",
    "\n",
    "#smoothened plots\n",
    "OC_avg_steps_vs_episodes_smoothed = gaussian_filter1d(OC_avg_steps_vs_episodes, sigma=2)\n",
    "error_steps_OC_smoothed = gaussian_filter1d(error_steps_OC, sigma=2)\n",
    "IOC_avg_steps_vs_episodes_smoothed = gaussian_filter1d(IOC_avg_steps_vs_episodes, sigma=2)\n",
    "error_steps_IOC_smoothed = gaussian_filter1d(error_steps_IOC, sigma=2)\n",
    "\n",
    "plt.plot(x_axis, IOC_avg_steps_vs_episodes_smoothed[:500], color = 'red', label ='IOC with uniform fixed $\\pi_{\\Omega}$', linewidth = 2.00)\n",
    "plt.fill_between(x_axis, IOC_avg_steps_vs_episodes_smoothed[:500]-error_steps_IOC_smoothed[:500], IOC_avg_steps_vs_episodes_smoothed[:500]+error_steps_IOC_smoothed[:500], facecolor='red', edgecolor='red', alpha=0.15)\n",
    "\n",
    "plt.plot(x_axis, OC_avg_steps_vs_episodes_smoothed[:500], color = 'blue', label ='OC with uniform fixed $\\pi_{\\Omega}$', linewidth = 2.00)\n",
    "plt.fill_between(x_axis, OC_avg_steps_vs_episodes_smoothed[:500]-error_steps_OC_smoothed[:500], OC_avg_steps_vs_episodes_smoothed[:500]+error_steps_OC_smoothed[:500], facecolor='blue', edgecolor='blue', alpha=0.15)\n",
    "\n",
    "\n",
    "plt.legend(loc='best', facecolor='w')\n",
    "plt.xlabel(\"Episodes\", fontsize=16)\n",
    "plt.ylabel(\"Steps to Goal\",fontsize=16) \n",
    "plt.title(\"Four Rooms\")\n",
    "matplotlib.rc('axes',edgecolor='black')\n",
    "plt.savefig((os.path.join(root_dir,\"FR_Steps_10Runs_Smooth_MisspecifiedPiO\"+ \".pdf\")), dpi=200, orientation='portrait', papertype=None, format=None,\n",
    "            transparent=True, bbox_inches='tight', pad_inches=0,\n",
    "            frameon=None, figsize=(4, 4))\n",
    "\n",
    "plt.show()"
   ]
  }
 ],
 "metadata": {
  "kernelspec": {
   "display_name": "Python interest",
   "language": "python",
   "name": "interest"
  },
  "language_info": {
   "codemirror_mode": {
    "name": "ipython",
    "version": 3
   },
   "file_extension": ".py",
   "mimetype": "text/x-python",
   "name": "python",
   "nbconvert_exporter": "python",
   "pygments_lexer": "ipython3",
   "version": "3.6.7"
  }
 },
 "nbformat": 4,
 "nbformat_minor": 2
}
